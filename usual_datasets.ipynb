{
 "cells": [
  {
   "cell_type": "code",
   "execution_count": 1,
   "metadata": {},
   "outputs": [
    {
     "ename": "ModuleNotFoundError",
     "evalue": "No module named 'lsda'",
     "output_type": "error",
     "traceback": [
      "\u001b[0;31m---------------------------------------------------------------------------\u001b[0m",
      "\u001b[0;31mModuleNotFoundError\u001b[0m                       Traceback (most recent call last)",
      "\u001b[0;32m<ipython-input-1-01050d2c65f2>\u001b[0m in \u001b[0;36m<module>\u001b[0;34m\u001b[0m\n\u001b[1;32m      7\u001b[0m \u001b[0;32mfrom\u001b[0m \u001b[0msklearn\u001b[0m\u001b[0;34m.\u001b[0m\u001b[0mdatasets\u001b[0m \u001b[0;32mimport\u001b[0m \u001b[0mmake_circles\u001b[0m\u001b[0;34m,\u001b[0m \u001b[0mmake_moons\u001b[0m\u001b[0;34m,\u001b[0m \u001b[0mmake_blobs\u001b[0m\u001b[0;34m,\u001b[0m \u001b[0mmake_s_curve\u001b[0m\u001b[0;34m,\u001b[0m \u001b[0mmake_swiss_roll\u001b[0m\u001b[0;34m\u001b[0m\u001b[0;34m\u001b[0m\u001b[0m\n\u001b[1;32m      8\u001b[0m \u001b[0;34m\u001b[0m\u001b[0m\n\u001b[0;32m----> 9\u001b[0;31m \u001b[0;32mfrom\u001b[0m \u001b[0mlsda\u001b[0m \u001b[0;32mimport\u001b[0m \u001b[0mlsda\u001b[0m\u001b[0;34m\u001b[0m\u001b[0;34m\u001b[0m\u001b[0m\n\u001b[0m\u001b[1;32m     10\u001b[0m \u001b[0;34m\u001b[0m\u001b[0m\n\u001b[1;32m     11\u001b[0m \u001b[0mseed\u001b[0m \u001b[0;34m=\u001b[0m \u001b[0;36m42\u001b[0m\u001b[0;34m\u001b[0m\u001b[0;34m\u001b[0m\u001b[0m\n",
      "\u001b[0;31mModuleNotFoundError\u001b[0m: No module named 'lsda'"
     ]
    }
   ],
   "source": [
    "import numpy as np\n",
    "import matplotlib.pyplot as plt\n",
    "import seaborn as sns\n",
    "import plotly.graph_objects as go\n",
    "\n",
    "from itertools import cycle, islice\n",
    "from sklearn.datasets import make_circles, make_moons, make_blobs, make_s_curve, make_swiss_roll\n",
    "\n",
    "from lsda import lsda\n",
    "\n",
    "seed = 42\n",
    "n_samples = 1500"
   ]
  },
  {
   "cell_type": "code",
   "execution_count": null,
   "metadata": {},
   "outputs": [],
   "source": [
    "X_circles, y_circles = make_circles(n_samples=n_samples, factor=.5, noise=.05, random_state=seed)\n",
    "sns.relplot(x=X_circles[:,0], y=X_circles[:,1], hue=y_circles, alpha=.5, palette=\"muted\");"
   ]
  },
  {
   "cell_type": "code",
   "execution_count": null,
   "metadata": {},
   "outputs": [],
   "source": [
    "X_moons, y_moons = make_moons(n_samples=n_samples, noise=.05, random_state=seed)\n",
    "sns.relplot(x=X_moons[:,0], y=X_moons[:,1], hue=y_moons, alpha=.5, palette=\"muted\");"
   ]
  },
  {
   "cell_type": "code",
   "execution_count": null,
   "metadata": {},
   "outputs": [],
   "source": [
    "X, y_aniso = make_blobs(n_samples=n_samples, random_state=seed)\n",
    "transformation = [[0.6, -0.6], [-0.4, 0.8]]\n",
    "X_aniso = np.dot(X, transformation)\n",
    "sns.relplot(x=X_aniso[:,0], y=X_aniso[:,1], hue=y_aniso, alpha=.5, palette=\"muted\");"
   ]
  },
  {
   "cell_type": "code",
   "execution_count": null,
   "metadata": {},
   "outputs": [],
   "source": [
    "X_blobs, y_blobs = make_blobs(n_samples=n_samples, random_state=seed)\n",
    "sns.relplot(x=X_blobs[:,0], y=X_blobs[:,1], hue=y_blobs, alpha=.5, palette=\"muted\");"
   ]
  },
  {
   "cell_type": "code",
   "execution_count": null,
   "metadata": {},
   "outputs": [],
   "source": [
    "X_varied_blobs, y_varied_blobs = make_blobs(n_samples=n_samples, cluster_std=[1.0, 2.5, 0.5], random_state=seed)\n",
    "sns.relplot(x=X_varied_blobs[:,0], y=X_varied_blobs[:,1], hue=y_varied_blobs, alpha=.5, palette=\"muted\");"
   ]
  },
  {
   "cell_type": "code",
   "execution_count": null,
   "metadata": {},
   "outputs": [],
   "source": [
    "np.random.seed(seed)\n",
    "X_no_structure, y_no_structure = np.random.rand(n_samples, 2), None\n",
    "sns.relplot(x=X_no_structure[:,0], y=X_no_structure[:,1], hue=y_no_structure, alpha=.5, palette=\"muted\");"
   ]
  },
  {
   "cell_type": "code",
   "execution_count": null,
   "metadata": {},
   "outputs": [],
   "source": [
    "# S curve\n",
    "X_s_curve, y_s_curve = make_s_curve(n_samples=n_samples, random_state=seed)\n",
    "\n",
    "# Init fig\n",
    "fig = go.Figure(data=[go.Scatter3d(\n",
    "    x=X_s_curve[:,0],\n",
    "    y=X_s_curve[:,1],\n",
    "    z=X_s_curve[:,2],\n",
    "    mode='markers',\n",
    "    marker=dict(\n",
    "        size=5,\n",
    "        color=y_s_curve,                # set color to an array/list of desired values\n",
    "        colorscale='Viridis',   # choose a colorscale\n",
    "        opacity=0.8\n",
    "    )\n",
    ")])\n",
    "\n",
    "# tight layout\n",
    "fig.update_layout(margin=dict(l=0, r=0, b=0, t=0))\n",
    "fig.show()"
   ]
  },
  {
   "cell_type": "code",
   "execution_count": null,
   "metadata": {},
   "outputs": [],
   "source": [
    "# S curve\n",
    "X_swiss_roll, y_swiss_roll = make_swiss_roll(n_samples=n_samples, random_state=seed)\n",
    "\n",
    "# Init fig\n",
    "fig = go.Figure(data=[go.Scatter3d(\n",
    "    x=X_swiss_roll[:,0],\n",
    "    y=X_swiss_roll[:,1],\n",
    "    z=X_swiss_roll[:,2],\n",
    "    mode='markers',\n",
    "    marker=dict(\n",
    "        size=5,\n",
    "        color=y_swiss_roll,                # set color to an array/list of desired values\n",
    "        colorscale='Viridis',   # choose a colorscale\n",
    "        opacity=0.8\n",
    "    )\n",
    ")])\n",
    "\n",
    "# tight layout\n",
    "fig.update_layout(margin=dict(l=0, r=0, b=0, t=0))\n",
    "fig.show()"
   ]
  },
  {
   "cell_type": "code",
   "execution_count": null,
   "metadata": {},
   "outputs": [],
   "source": []
  },
  {
   "cell_type": "code",
   "execution_count": null,
   "metadata": {},
   "outputs": [],
   "source": []
  }
 ],
 "metadata": {
  "kernelspec": {
   "display_name": "Python 3",
   "language": "python",
   "name": "python3"
  },
  "language_info": {
   "codemirror_mode": {
    "name": "ipython",
    "version": 3
   },
   "file_extension": ".py",
   "mimetype": "text/x-python",
   "name": "python",
   "nbconvert_exporter": "python",
   "pygments_lexer": "ipython3",
   "version": "3.9.5"
  }
 },
 "nbformat": 4,
 "nbformat_minor": 4
}
